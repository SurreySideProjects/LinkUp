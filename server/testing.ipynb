{
 "cells": [
  {
   "cell_type": "code",
   "execution_count": 3,
   "metadata": {},
   "outputs": [],
   "source": [
    "# from flask import Flask, request, jsonify\n",
    "import requests"
   ]
  },
  {
   "cell_type": "code",
   "execution_count": 29,
   "metadata": {},
   "outputs": [
    {
     "name": "stdout",
     "output_type": "stream",
     "text": [
      "Status Code: 201\n",
      "Response: {'msg': 'Group was created successfully'}\n"
     ]
    }
   ],
   "source": [
    "def test_create_group(test_data):\n",
    "    # Make the request\n",
    "    response = requests.post('http://localhost:5000/api/v1/createGroup', json=test_data)\n",
    "    \n",
    "    # Print results\n",
    "    print(f\"Status Code: {response.status_code}\")\n",
    "    print(f\"Response: {response.json()}\")\n",
    "\n",
    "\n",
    "test_data = {\n",
    "    \"name\": \"Test Group 1\",\n",
    "    \"username\": \"test123\",\n",
    "    \"description\": \"A test group\"\n",
    "}\n",
    "\n",
    "test_create_group(test_data)\n",
    "\n",
    "# Run the test"
   ]
  },
  {
   "cell_type": "code",
   "execution_count": null,
   "metadata": {},
   "outputs": [
    {
     "name": "stdout",
     "output_type": "stream",
     "text": [
      "Status Code: 201\n",
      "Response: {'msg': 'User was successfully added to the Group'}\n"
     ]
    }
   ],
   "source": [
    "# test_create_group()\n",
    "def test_add_user_to_group(test_data):\n",
    "\n",
    "    response = requests.post('http://localhost:5000/api/v1/addUserToGroup', json=test_data)\n",
    "    \n",
    "    print(f\"Status Code: {response.status_code}\")\n",
    "    print(f\"Response: {response.json()}\")\n",
    "\n",
    "test_data = {\n",
    "    \"groupname\": \"Test Group 1\",\n",
    "    \"username\": \"test123\",\n",
    "}\n",
    "\n",
    "test_add_user_to_group(test_data)"
   ]
  },
  {
   "cell_type": "code",
   "execution_count": null,
   "metadata": {},
   "outputs": [],
   "source": [
    "if not "
   ]
  }
 ],
 "metadata": {
  "kernelspec": {
   "display_name": "Python 3",
   "language": "python",
   "name": "python3"
  },
  "language_info": {
   "codemirror_mode": {
    "name": "ipython",
    "version": 3
   },
   "file_extension": ".py",
   "mimetype": "text/x-python",
   "name": "python",
   "nbconvert_exporter": "python",
   "pygments_lexer": "ipython3",
   "version": "3.8.10"
  }
 },
 "nbformat": 4,
 "nbformat_minor": 2
}
