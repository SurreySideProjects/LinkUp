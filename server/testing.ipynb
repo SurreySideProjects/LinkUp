{
 "cells": [
  {
   "cell_type": "code",
   "execution_count": 3,
   "metadata": {},
   "outputs": [],
   "source": [
    "# from flask import Flask, request, jsonify\n",
    "import requests"
   ]
  },
  {
   "cell_type": "code",
   "execution_count": 4,
   "metadata": {},
   "outputs": [],
   "source": [
    "def test_create_group():\n",
    "    # Test data\n",
    "    test_data = {\n",
    "        \"name\": \"Test Group 1\",\n",
    "        \"username\": \"test123\",\n",
    "        \"description\": \"A test group\"\n",
    "    }\n",
    "    \n",
    "    # Make the request\n",
    "    response = requests.post('http://localhost:5000/api/v1/createGroup', json=test_data)\n",
    "    \n",
    "    # Print results\n",
    "    print(f\"Status Code: {response.status_code}\")\n",
    "    print(f\"Response: {response.json()}\")\n",
    "\n",
    "# Run the test"
   ]
  },
  {
   "cell_type": "code",
   "execution_count": 6,
   "metadata": {},
   "outputs": [
    {
     "name": "stdout",
     "output_type": "stream",
     "text": [
      "Status Code: 201\n",
      "Response: {'msg': 'Group was created successfully'}\n"
     ]
    }
   ],
   "source": [
    "test_create_group()"
   ]
  }
 ],
 "metadata": {
  "kernelspec": {
   "display_name": "Python 3",
   "language": "python",
   "name": "python3"
  },
  "language_info": {
   "codemirror_mode": {
    "name": "ipython",
    "version": 3
   },
   "file_extension": ".py",
   "mimetype": "text/x-python",
   "name": "python",
   "nbconvert_exporter": "python",
   "pygments_lexer": "ipython3",
   "version": "3.8.10"
  }
 },
 "nbformat": 4,
 "nbformat_minor": 2
}
